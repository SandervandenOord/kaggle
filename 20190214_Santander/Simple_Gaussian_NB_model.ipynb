{
 "cells": [
  {
   "cell_type": "markdown",
   "metadata": {},
   "source": [
    "# Kaggle Santander Customer Transaction Prediction competition: \n",
    "# Using Gaussian Naive Bayes\n",
    "https://www.kaggle.com/c/santander-customer-transaction-prediction"
   ]
  },
  {
   "cell_type": "markdown",
   "metadata": {},
   "source": [
    "## Gaussian Naive Bayes: in this case a good classifier other than boosting :)"
   ]
  },
  {
   "cell_type": "markdown",
   "metadata": {},
   "source": [
    "As always boosting methods give great results, but in this competition a good option is Gaussian Naive Bayes.  \n",
    "This is because the variables all have only small correlations, so the features are independent of eachother.  \n",
    "Independence is one of the assumptions of Naive Bayes."
   ]
  },
  {
   "cell_type": "markdown",
   "metadata": {},
   "source": [
    "## Import necessary sklearn packages"
   ]
  },
  {
   "cell_type": "code",
   "execution_count": 1,
   "metadata": {},
   "outputs": [],
   "source": [
    "from sklearn.preprocessing import StandardScaler\n",
    "from sklearn.naive_bayes import GaussianNB\n",
    "from sklearn.metrics import roc_auc_score\n",
    "from sklearn.model_selection import cross_val_score"
   ]
  },
  {
   "cell_type": "markdown",
   "metadata": {},
   "source": [
    "## Read in train and test data"
   ]
  },
  {
   "cell_type": "code",
   "execution_count": 2,
   "metadata": {},
   "outputs": [
    {
     "data": {
      "text/html": [
       "<div>\n",
       "<style scoped>\n",
       "    .dataframe tbody tr th:only-of-type {\n",
       "        vertical-align: middle;\n",
       "    }\n",
       "\n",
       "    .dataframe tbody tr th {\n",
       "        vertical-align: top;\n",
       "    }\n",
       "\n",
       "    .dataframe thead th {\n",
       "        text-align: right;\n",
       "    }\n",
       "</style>\n",
       "<table border=\"1\" class=\"dataframe\">\n",
       "  <thead>\n",
       "    <tr style=\"text-align: right;\">\n",
       "      <th></th>\n",
       "      <th>target</th>\n",
       "      <th>var_0</th>\n",
       "      <th>var_1</th>\n",
       "      <th>var_2</th>\n",
       "      <th>var_3</th>\n",
       "      <th>var_4</th>\n",
       "      <th>var_5</th>\n",
       "      <th>var_6</th>\n",
       "      <th>var_7</th>\n",
       "      <th>var_8</th>\n",
       "      <th>...</th>\n",
       "      <th>var_190</th>\n",
       "      <th>var_191</th>\n",
       "      <th>var_192</th>\n",
       "      <th>var_193</th>\n",
       "      <th>var_194</th>\n",
       "      <th>var_195</th>\n",
       "      <th>var_196</th>\n",
       "      <th>var_197</th>\n",
       "      <th>var_198</th>\n",
       "      <th>var_199</th>\n",
       "    </tr>\n",
       "  </thead>\n",
       "  <tbody>\n",
       "    <tr>\n",
       "      <th>0</th>\n",
       "      <td>0</td>\n",
       "      <td>8.925</td>\n",
       "      <td>-6.786</td>\n",
       "      <td>11.908</td>\n",
       "      <td>5.093</td>\n",
       "      <td>11.461</td>\n",
       "      <td>-9.283</td>\n",
       "      <td>5.119</td>\n",
       "      <td>18.627</td>\n",
       "      <td>-4.920</td>\n",
       "      <td>...</td>\n",
       "      <td>4.435</td>\n",
       "      <td>3.964</td>\n",
       "      <td>3.136</td>\n",
       "      <td>1.691</td>\n",
       "      <td>18.523</td>\n",
       "      <td>-2.398</td>\n",
       "      <td>7.878</td>\n",
       "      <td>8.563</td>\n",
       "      <td>12.780</td>\n",
       "      <td>-1.091</td>\n",
       "    </tr>\n",
       "    <tr>\n",
       "      <th>1</th>\n",
       "      <td>0</td>\n",
       "      <td>11.501</td>\n",
       "      <td>-4.147</td>\n",
       "      <td>13.859</td>\n",
       "      <td>5.389</td>\n",
       "      <td>12.362</td>\n",
       "      <td>7.043</td>\n",
       "      <td>5.621</td>\n",
       "      <td>16.534</td>\n",
       "      <td>3.147</td>\n",
       "      <td>...</td>\n",
       "      <td>7.642</td>\n",
       "      <td>7.721</td>\n",
       "      <td>2.584</td>\n",
       "      <td>10.952</td>\n",
       "      <td>15.431</td>\n",
       "      <td>2.034</td>\n",
       "      <td>8.127</td>\n",
       "      <td>8.789</td>\n",
       "      <td>18.356</td>\n",
       "      <td>1.952</td>\n",
       "    </tr>\n",
       "    <tr>\n",
       "      <th>2</th>\n",
       "      <td>0</td>\n",
       "      <td>8.609</td>\n",
       "      <td>-2.746</td>\n",
       "      <td>12.081</td>\n",
       "      <td>7.893</td>\n",
       "      <td>10.582</td>\n",
       "      <td>-9.084</td>\n",
       "      <td>6.943</td>\n",
       "      <td>14.616</td>\n",
       "      <td>-4.919</td>\n",
       "      <td>...</td>\n",
       "      <td>2.906</td>\n",
       "      <td>9.790</td>\n",
       "      <td>1.670</td>\n",
       "      <td>1.686</td>\n",
       "      <td>21.604</td>\n",
       "      <td>3.142</td>\n",
       "      <td>-6.521</td>\n",
       "      <td>8.268</td>\n",
       "      <td>14.722</td>\n",
       "      <td>0.397</td>\n",
       "    </tr>\n",
       "  </tbody>\n",
       "</table>\n",
       "<p>3 rows × 201 columns</p>\n",
       "</div>"
      ],
      "text/plain": [
       "   target  var_0  var_1  var_2  var_3  var_4  var_5  var_6  var_7  var_8  ...  \\\n",
       "0       0  8.925 -6.786 11.908  5.093 11.461 -9.283  5.119 18.627 -4.920  ...   \n",
       "1       0 11.501 -4.147 13.859  5.389 12.362  7.043  5.621 16.534  3.147  ...   \n",
       "2       0  8.609 -2.746 12.081  7.893 10.582 -9.084  6.943 14.616 -4.919  ...   \n",
       "\n",
       "   var_190  var_191  var_192  var_193  var_194  var_195  var_196  var_197  \\\n",
       "0    4.435    3.964    3.136    1.691   18.523   -2.398    7.878    8.563   \n",
       "1    7.642    7.721    2.584   10.952   15.431    2.034    8.127    8.789   \n",
       "2    2.906    9.790    1.670    1.686   21.604    3.142   -6.521    8.268   \n",
       "\n",
       "   var_198  var_199  \n",
       "0   12.780   -1.091  \n",
       "1   18.356    1.952  \n",
       "2   14.722    0.397  \n",
       "\n",
       "[3 rows x 201 columns]"
      ]
     },
     "execution_count": 2,
     "metadata": {},
     "output_type": "execute_result"
    }
   ],
   "source": [
    "train = pd.read_csv('santander-customer-transaction-prediction/train.csv', header=0).drop(columns='ID_code')\n",
    "train.head(3)"
   ]
  },
  {
   "cell_type": "code",
   "execution_count": 3,
   "metadata": {},
   "outputs": [
    {
     "data": {
      "text/html": [
       "<div>\n",
       "<style scoped>\n",
       "    .dataframe tbody tr th:only-of-type {\n",
       "        vertical-align: middle;\n",
       "    }\n",
       "\n",
       "    .dataframe tbody tr th {\n",
       "        vertical-align: top;\n",
       "    }\n",
       "\n",
       "    .dataframe thead th {\n",
       "        text-align: right;\n",
       "    }\n",
       "</style>\n",
       "<table border=\"1\" class=\"dataframe\">\n",
       "  <thead>\n",
       "    <tr style=\"text-align: right;\">\n",
       "      <th></th>\n",
       "      <th>ID_code</th>\n",
       "      <th>var_0</th>\n",
       "      <th>var_1</th>\n",
       "      <th>var_2</th>\n",
       "      <th>var_3</th>\n",
       "      <th>var_4</th>\n",
       "      <th>var_5</th>\n",
       "      <th>var_6</th>\n",
       "      <th>var_7</th>\n",
       "      <th>var_8</th>\n",
       "      <th>...</th>\n",
       "      <th>var_190</th>\n",
       "      <th>var_191</th>\n",
       "      <th>var_192</th>\n",
       "      <th>var_193</th>\n",
       "      <th>var_194</th>\n",
       "      <th>var_195</th>\n",
       "      <th>var_196</th>\n",
       "      <th>var_197</th>\n",
       "      <th>var_198</th>\n",
       "      <th>var_199</th>\n",
       "    </tr>\n",
       "  </thead>\n",
       "  <tbody>\n",
       "    <tr>\n",
       "      <th>0</th>\n",
       "      <td>test_0</td>\n",
       "      <td>11.066</td>\n",
       "      <td>7.780</td>\n",
       "      <td>12.954</td>\n",
       "      <td>9.429</td>\n",
       "      <td>11.433</td>\n",
       "      <td>-2.381</td>\n",
       "      <td>5.849</td>\n",
       "      <td>18.267</td>\n",
       "      <td>2.134</td>\n",
       "      <td>...</td>\n",
       "      <td>-2.156</td>\n",
       "      <td>11.850</td>\n",
       "      <td>-1.430</td>\n",
       "      <td>2.451</td>\n",
       "      <td>13.711</td>\n",
       "      <td>2.467</td>\n",
       "      <td>4.365</td>\n",
       "      <td>10.720</td>\n",
       "      <td>15.472</td>\n",
       "      <td>-8.720</td>\n",
       "    </tr>\n",
       "    <tr>\n",
       "      <th>1</th>\n",
       "      <td>test_1</td>\n",
       "      <td>8.530</td>\n",
       "      <td>1.254</td>\n",
       "      <td>11.305</td>\n",
       "      <td>5.186</td>\n",
       "      <td>9.197</td>\n",
       "      <td>-4.012</td>\n",
       "      <td>6.020</td>\n",
       "      <td>18.632</td>\n",
       "      <td>-4.413</td>\n",
       "      <td>...</td>\n",
       "      <td>10.617</td>\n",
       "      <td>8.835</td>\n",
       "      <td>0.940</td>\n",
       "      <td>10.128</td>\n",
       "      <td>15.576</td>\n",
       "      <td>0.477</td>\n",
       "      <td>-1.485</td>\n",
       "      <td>9.871</td>\n",
       "      <td>19.129</td>\n",
       "      <td>-20.976</td>\n",
       "    </tr>\n",
       "    <tr>\n",
       "      <th>2</th>\n",
       "      <td>test_2</td>\n",
       "      <td>5.483</td>\n",
       "      <td>-10.358</td>\n",
       "      <td>10.141</td>\n",
       "      <td>7.048</td>\n",
       "      <td>10.263</td>\n",
       "      <td>9.805</td>\n",
       "      <td>4.895</td>\n",
       "      <td>20.254</td>\n",
       "      <td>1.523</td>\n",
       "      <td>...</td>\n",
       "      <td>-0.748</td>\n",
       "      <td>10.993</td>\n",
       "      <td>1.980</td>\n",
       "      <td>2.180</td>\n",
       "      <td>12.981</td>\n",
       "      <td>2.128</td>\n",
       "      <td>-7.109</td>\n",
       "      <td>7.062</td>\n",
       "      <td>19.896</td>\n",
       "      <td>-23.179</td>\n",
       "    </tr>\n",
       "  </tbody>\n",
       "</table>\n",
       "<p>3 rows × 201 columns</p>\n",
       "</div>"
      ],
      "text/plain": [
       "  ID_code  var_0   var_1  var_2  var_3  var_4  var_5  var_6  var_7  var_8  \\\n",
       "0  test_0 11.066   7.780 12.954  9.429 11.433 -2.381  5.849 18.267  2.134   \n",
       "1  test_1  8.530   1.254 11.305  5.186  9.197 -4.012  6.020 18.632 -4.413   \n",
       "2  test_2  5.483 -10.358 10.141  7.048 10.263  9.805  4.895 20.254  1.523   \n",
       "\n",
       "   ...  var_190  var_191  var_192  var_193  var_194  var_195  var_196  \\\n",
       "0  ...   -2.156   11.850   -1.430    2.451   13.711    2.467    4.365   \n",
       "1  ...   10.617    8.835    0.940   10.128   15.576    0.477   -1.485   \n",
       "2  ...   -0.748   10.993    1.980    2.180   12.981    2.128   -7.109   \n",
       "\n",
       "   var_197  var_198  var_199  \n",
       "0   10.720   15.472   -8.720  \n",
       "1    9.871   19.129  -20.976  \n",
       "2    7.062   19.896  -23.179  \n",
       "\n",
       "[3 rows x 201 columns]"
      ]
     },
     "execution_count": 3,
     "metadata": {},
     "output_type": "execute_result"
    }
   ],
   "source": [
    "test = pd.read_csv('santander-customer-transaction-prediction/test.csv', header=0)\n",
    "test.head(3)"
   ]
  },
  {
   "cell_type": "markdown",
   "metadata": {},
   "source": [
    "## Separate target and feature data"
   ]
  },
  {
   "cell_type": "code",
   "execution_count": 4,
   "metadata": {},
   "outputs": [],
   "source": [
    "feature_columns = [column_name for column_name in train.columns if column_name != 'target']\n",
    "\n",
    "X_train = train[feature_columns]\n",
    "y_train = train['target']\n",
    "\n",
    "X_test = test[feature_columns]"
   ]
  },
  {
   "cell_type": "markdown",
   "metadata": {},
   "source": [
    "## Normalize the data\n",
    "In this case normalizing almost doesn't add anything to the quality of predictions, but it's a good habit anyways."
   ]
  },
  {
   "cell_type": "code",
   "execution_count": 5,
   "metadata": {},
   "outputs": [],
   "source": [
    "normalizer = StandardScaler()\n",
    "\n",
    "X_train_norm = normalizer.fit_transform(X_train)\n",
    "X_test_norm = normalizer.transform(X_test)"
   ]
  },
  {
   "cell_type": "markdown",
   "metadata": {},
   "source": [
    "## Fit the data using a Gaussian Naive Bayes Classifier"
   ]
  },
  {
   "cell_type": "code",
   "execution_count": 6,
   "metadata": {},
   "outputs": [
    {
     "data": {
      "text/plain": [
       "GaussianNB(priors=None, var_smoothing=1e-09)"
      ]
     },
     "execution_count": 6,
     "metadata": {},
     "output_type": "execute_result"
    }
   ],
   "source": [
    "gaussian_nb = GaussianNB()\n",
    "gaussian_nb.fit(X_train_norm, y_train)"
   ]
  },
  {
   "cell_type": "markdown",
   "metadata": {},
   "source": [
    "## Check the Area Under the Curve scores"
   ]
  },
  {
   "cell_type": "code",
   "execution_count": 7,
   "metadata": {},
   "outputs": [
    {
     "name": "stdout",
     "output_type": "stream",
     "text": [
      "roc score on normalized X_train data: 0.89\n"
     ]
    }
   ],
   "source": [
    "auc_score_x_train = roc_auc_score(y_train, gaussian_nb.predict_proba(X_train_norm)[:, 1])\n",
    "print(f'roc score on normalized X_train data: {auc_score_x_train.round(3)}')"
   ]
  },
  {
   "cell_type": "code",
   "execution_count": 8,
   "metadata": {},
   "outputs": [
    {
     "name": "stdout",
     "output_type": "stream",
     "text": [
      "mean cross validation score: 0.888\n"
     ]
    }
   ],
   "source": [
    "gauss_nb_norm_scores = cross_val_score(gaussian_nb, X_train_norm, y_train, cv=5, scoring='roc_auc')\n",
    "print(f'mean cross validation score: {gauss_nb_norm_scores.mean().round(3)}')"
   ]
  },
  {
   "cell_type": "markdown",
   "metadata": {},
   "source": [
    "## Use the classifier to predict probabilies on the test set"
   ]
  },
  {
   "cell_type": "code",
   "execution_count": 9,
   "metadata": {},
   "outputs": [],
   "source": [
    "gaussian_nb_submission = test['ID_code'].to_frame()"
   ]
  },
  {
   "cell_type": "code",
   "execution_count": 10,
   "metadata": {},
   "outputs": [
    {
     "data": {
      "text/html": [
       "<div>\n",
       "<style scoped>\n",
       "    .dataframe tbody tr th:only-of-type {\n",
       "        vertical-align: middle;\n",
       "    }\n",
       "\n",
       "    .dataframe tbody tr th {\n",
       "        vertical-align: top;\n",
       "    }\n",
       "\n",
       "    .dataframe thead th {\n",
       "        text-align: right;\n",
       "    }\n",
       "</style>\n",
       "<table border=\"1\" class=\"dataframe\">\n",
       "  <thead>\n",
       "    <tr style=\"text-align: right;\">\n",
       "      <th></th>\n",
       "      <th>ID_code</th>\n",
       "      <th>target</th>\n",
       "    </tr>\n",
       "  </thead>\n",
       "  <tbody>\n",
       "    <tr>\n",
       "      <th>0</th>\n",
       "      <td>test_0</td>\n",
       "      <td>0.109</td>\n",
       "    </tr>\n",
       "    <tr>\n",
       "      <th>1</th>\n",
       "      <td>test_1</td>\n",
       "      <td>0.187</td>\n",
       "    </tr>\n",
       "    <tr>\n",
       "      <th>2</th>\n",
       "      <td>test_2</td>\n",
       "      <td>0.200</td>\n",
       "    </tr>\n",
       "  </tbody>\n",
       "</table>\n",
       "</div>"
      ],
      "text/plain": [
       "  ID_code  target\n",
       "0  test_0   0.109\n",
       "1  test_1   0.187\n",
       "2  test_2   0.200"
      ]
     },
     "execution_count": 10,
     "metadata": {},
     "output_type": "execute_result"
    }
   ],
   "source": [
    "gaussian_nb_submission['target'] = gaussian_nb.predict_proba(X_test_norm)[:, 1]\n",
    "gaussian_nb_submission.head(3)"
   ]
  },
  {
   "cell_type": "markdown",
   "metadata": {},
   "source": [
    "## Visualize predicted probabilities for the test set"
   ]
  },
  {
   "cell_type": "code",
   "execution_count": 11,
   "metadata": {},
   "outputs": [
    {
     "data": {
      "image/png": "[encoded data removed]",
      "text/plain": [
       "<Figure size 700x450 with 1 Axes>"
      ]
     },
     "metadata": {},
     "output_type": "display_data"
    }
   ],
   "source": [
    "ax = gaussian_nb_submission.plot.hist(bins=20, density=True)\n",
    "ax.set(\n",
    "    title='histogram of predicted probabilities on test data',\n",
    "    xlabel='predicted transaction probability', \n",
    "    ylabel='density',\n",
    "    xlim=(0.0, 1.0),\n",
    ")\n",
    "sns.despine()\n",
    "plt.tight_layout();"
   ]
  },
  {
   "cell_type": "markdown",
   "metadata": {},
   "source": [
    "## Create the submission csv for Kaggle"
   ]
  },
  {
   "cell_type": "code",
   "execution_count": 13,
   "metadata": {},
   "outputs": [],
   "source": [
    "gaussian_nb_submission.to_csv('gaussian_nb.csv', header=True, index=False)"
   ]
  },
  {
   "cell_type": "markdown",
   "metadata": {},
   "source": [
    "## Leaderboard score for this model: AUC 0.888"
   ]
  }
 ],
 "metadata": {
  "kernelspec": {
   "display_name": "openu3",
   "language": "python",
   "name": "openu3"
  },
  "language_info": {
   "codemirror_mode": {
    "name": "ipython",
    "version": 3
   },
   "file_extension": ".py",
   "mimetype": "text/x-python",
   "name": "python",
   "nbconvert_exporter": "python",
   "pygments_lexer": "ipython3",
   "version": "3.6.8"
  }
 },
 "nbformat": 4,
 "nbformat_minor": 2
}
